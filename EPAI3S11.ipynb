{
 "cells": [
  {
   "cell_type": "markdown",
   "id": "9294e76e-b85a-45f4-b8ec-3d1d4942da38",
   "metadata": {},
   "source": [
    "# EPAI3 Session 11 - Iterables and Iterators (Part 1)\n",
    "While Sequences allow only refer to ordered group of items. These include Lists, Tuples and Strings. Some of the operations that sequences support include:\n",
    "\n",
    "1. Concatenation\n",
    "2. Repetitions\n",
    "3. \"in\" and \"not in\" operators\n",
    "4. Element wise indexing/Slicing.\n",
    "\n",
    "It is important to note that all Sequences are \"iterable\" but it is not necessary that all iterables are sequences. E.g: Unordered Sets vs Lists. Further, **range ** objects are additionally restrictive as they don't permit concatenation/reptition."
   ]
  },
  {
   "cell_type": "code",
   "execution_count": null,
   "id": "5dbf6b79-f1b7-4b5a-8063-69afbb56b636",
   "metadata": {},
   "outputs": [],
   "source": [
    "!git clone https://github.com/rajy4683/session11-EPAI3-rajy4683.git"
   ]
  },
  {
   "cell_type": "code",
   "execution_count": 1,
   "id": "b43fc4c1-f523-4435-9bf8-df4a0c7bf319",
   "metadata": {},
   "outputs": [
    {
     "name": "stdout",
     "output_type": "stream",
     "text": [
      "/mnt/c/Users/rajy/OneDrive - Nokia/EVA4P2/EPAI3/s11\n"
     ]
    }
   ],
   "source": [
    "!pwd"
   ]
  },
  {
   "cell_type": "code",
   "execution_count": 1,
   "id": "fe7dfc75-34de-4e65-a3ca-27f08e8d8800",
   "metadata": {},
   "outputs": [],
   "source": [
    "%load_ext autoreload\n",
    "%autoreload 2\n",
    "import sys\n",
    "from functools import lru_cache\n",
    "import math\n",
    "import numbers\n",
    "import decimal\n",
    "import sys\n",
    "\n",
    "from polygonlib import ConvexPolygon\n",
    "from polygonsequence import PolygonSequences\n"
   ]
  },
  {
   "cell_type": "code",
   "execution_count": 2,
   "id": "b7435e92-7061-46f9-99c0-1316c03e89fb",
   "metadata": {},
   "outputs": [
    {
     "data": {
      "text/plain": [
       "(\"<class 'polygonlib.ConvexPolygon'>\",\n",
       " \"<class 'polygonsequence.PolygonSequences'>\")"
      ]
     },
     "execution_count": 2,
     "metadata": {},
     "output_type": "execute_result"
    }
   ],
   "source": [
    "str(ConvexPolygon), str(PolygonSequences)"
   ]
  },
  {
   "cell_type": "code",
   "execution_count": 3,
   "id": "25331714-1610-4e45-a852-1f6c66c2a5eb",
   "metadata": {},
   "outputs": [
    {
     "data": {
      "text/plain": [
       "polygonsequence.PolygonSequences"
      ]
     },
     "execution_count": 3,
     "metadata": {},
     "output_type": "execute_result"
    }
   ],
   "source": [
    "PolygonSequences"
   ]
  },
  {
   "cell_type": "code",
   "execution_count": 4,
   "id": "478fc2d5-2bd3-4ffc-8f14-01c831a2ce9d",
   "metadata": {},
   "outputs": [
    {
     "data": {
      "text/plain": [
       "['PolygonSqIterator',\n",
       " '__class__',\n",
       " '__delattr__',\n",
       " '__dict__',\n",
       " '__dir__',\n",
       " '__doc__',\n",
       " '__eq__',\n",
       " '__format__',\n",
       " '__ge__',\n",
       " '__getattribute__',\n",
       " '__getitem__',\n",
       " '__gt__',\n",
       " '__hash__',\n",
       " '__init__',\n",
       " '__init_subclass__',\n",
       " '__iter__',\n",
       " '__le__',\n",
       " '__len__',\n",
       " '__lt__',\n",
       " '__module__',\n",
       " '__ne__',\n",
       " '__new__',\n",
       " '__reduce__',\n",
       " '__reduce_ex__',\n",
       " '__repr__',\n",
       " '__setattr__',\n",
       " '__sizeof__',\n",
       " '__str__',\n",
       " '__subclasshook__',\n",
       " '__weakref__',\n",
       " '_polygonator',\n",
       " 'check_number_type',\n",
       " 'get_max_efficiency_poly']"
      ]
     },
     "execution_count": 4,
     "metadata": {},
     "output_type": "execute_result"
    }
   ],
   "source": [
    "dir(PolygonSequences)"
   ]
  },
  {
   "cell_type": "markdown",
   "id": "5706511b-c1d0-47d2-8795-7cd59bf811dd",
   "metadata": {},
   "source": [
    "## Polygons Iterators\n",
    "Implement an iterable and an iterator to \n",
    "\n",
    "Refactor the `Polygons` (sequence) type, into an **iterable** and implement both an iterable, and an iterator.\n"
   ]
  },
  {
   "cell_type": "code",
   "execution_count": 5,
   "id": "f3a1cad2-2523-4b29-812e-363ce8f785e3",
   "metadata": {
    "tags": []
   },
   "outputs": [],
   "source": [
    "from polygonlib import ConvexPolygon\n",
    "from functools import lru_cache\n",
    "import math\n",
    "import numbers\n",
    "import decimal\n",
    "\n",
    "class PolygonSequences():\n",
    "    '''\n",
    "    Polygon iterable class that generates all polygons for a given circumradius and upto the max edges specified by n_sides.\n",
    "    E.g: If input radius = 4 and n_sides = 10, polygons starting from sides = 3,4,...10 of size 4 will be generated\n",
    "    Returns iterable of ConvexPolygon class.\n",
    "    '''\n",
    "    def check_number_type(self, x):\n",
    "        if isinstance(x, bool):\n",
    "            return False\n",
    "        if isinstance(x, complex):\n",
    "            return False\n",
    "        return isinstance(x, numbers.Number)\n",
    "    \n",
    "    def __init__(self, n_sides, circumradius):\n",
    "        \"\"\"\n",
    "        n_sides and circumradius are expected to be numbers\n",
    "        \"\"\"\n",
    "        if (self.check_number_type(n_sides) == False or\n",
    "            self.check_number_type(circumradius) == False):\n",
    "            raise TypeError\n",
    "                \n",
    "        if n_sides < 3:\n",
    "            raise ValueError(f'Minimum number of sides should be 3. Input n_sides={n_sides} ')\n",
    "            \n",
    "        self.max_poly_edges = n_sides\n",
    "        self.circumradius = circumradius\n",
    "        self._offset_to_polysides =  { idx:PolygonSequences._polygonator(i, self.circumradius) for idx,i in enumerate(range(3, self.max_poly_edges+1, 1)) }\n",
    "        self.max_efficient_poly = self.get_max_efficiency_poly()\n",
    "    \n",
    "    def get_max_efficiency_poly(self):\n",
    "        '''\n",
    "        Returns the max efficient polygon. We can make a simple hack to use the one with largest number of edges.\n",
    "        '''\n",
    "        max_pol_ratio = self._offset_to_polysides[0].get_area/self._offset_to_polysides[0].get_perimeter\n",
    "        max_pol_offset = 0\n",
    "        for k,v in self._offset_to_polysides.items():\n",
    "            curr_ratio = v.get_area/v.get_perimeter\n",
    "            if curr_ratio > max_pol_ratio:\n",
    "                max_pol_offset = k\n",
    "                max_pol_ratio = curr_ratio\n",
    "        return self._offset_to_polysides[max_pol_offset]\n",
    "    def __repr__(self):\n",
    "        '''\n",
    "        Repr for Polygon sequence\n",
    "        '''\n",
    "        return f\"Instance of PolygonSequences class. Max Edges:{self.max_poly_edges} Radius:{self.circumradius} Len: {len(self._offset_to_polysides)}\"\n",
    "    def __len__(self):\n",
    "        '''\n",
    "        Total length of the sequence. This will be equal to the max value provided during sequence creation.\n",
    "        '''\n",
    "        return len(self._offset_to_polysides)    \n",
    "    def __getitem__(self, s):\n",
    "        '''\n",
    "        Allows for proper iteration of the sequence.\n",
    "        '''\n",
    "        if isinstance(s, int):\n",
    "            if s < 0:\n",
    "                s = self.__len__() + s\n",
    "            if s < 0 or s >=self.__len__():\n",
    "                raise IndexError(f\"Invalid Index.\")\n",
    "            else:\n",
    "#                 return PolygonSequences._polygonator(self.offset_to_polysides[s], self.circumradius)\n",
    "                return self._offset_to_polysides[s]\n",
    "        else:\n",
    "#             print(type(s))\n",
    "            start, stop, step = s.indices(self.__len__())\n",
    "#             return [PolygonSequences._polygonator(self.offset_to_polysides[i], self.circumradius) for i in range(start, stop, step)]\n",
    "            return [self._offset_to_polysides[i] for i in range(start, stop, step)]\n",
    "            \n",
    "    def __iter__(self):\n",
    "        '''\n",
    "        Iterator function that returns a new iterator on every call\n",
    "        '''\n",
    "#         print(\"Calling Polygon Sequence __iter__\")\n",
    "        return self.PolygonSqIterator(self) \n",
    "    \n",
    "    @staticmethod \n",
    "    @lru_cache(2**10) \n",
    "    def _polygonator(n_sides, circumradius):                \n",
    "        if n_sides < 3:\n",
    "            raise ValueError(f'Minimum number of sides for a polygon is 3')\n",
    "        \n",
    "        return ConvexPolygon(n_sides, circumradius)\n",
    "    \n",
    "    class PolygonSqIterator:\n",
    "        '''\n",
    "        The iterator class over Polygon sequence that converts it into an iterable.\n",
    "        Implements __next__ and __iter__ functions.\n",
    "        '''\n",
    "        def __init__(self, polygon_sq_obj):\n",
    "#             print(\"Calling PolygonSqIterator __init__\")\n",
    "            self.polygon_sq_obj = polygon_sq_obj\n",
    "            self._index = 0\n",
    "            \n",
    "        def __iter__(self):\n",
    "            '''\n",
    "            Basic __iter__ method that returns an instance of the iterator\n",
    "            '''\n",
    "#             print(\"Calling PolygonSqIterator instance __iter__\")\n",
    "            return self\n",
    "        \n",
    "        \n",
    "        def __next__(self):\n",
    "            '''\n",
    "            Implementation of __next__ function. Throws StopIteration when length is bypassed.\n",
    "            '''\n",
    "#             print(\"Calling PolygonSqIterator __next__\")\n",
    "            if self._index >= len(self.polygon_sq_obj):\n",
    "                raise StopIteration\n",
    "            else:\n",
    "                item = self.polygon_sq_obj._offset_to_polysides[self._index]\n",
    "                self._index += 1\n",
    "                return item\n"
   ]
  },
  {
   "cell_type": "code",
   "execution_count": 6,
   "id": "5016a13b-393d-4e44-a083-f1c0285e742c",
   "metadata": {
    "tags": []
   },
   "outputs": [
    {
     "data": {
      "text/plain": [
       "Instance of PolygonSequences class. Max Edges:10 Radius:3 Len: 8"
      ]
     },
     "execution_count": 6,
     "metadata": {},
     "output_type": "execute_result"
    }
   ],
   "source": [
    "polygon_gen = PolygonSequences(10,3)\n",
    "polygon_gen"
   ]
  },
  {
   "cell_type": "code",
   "execution_count": 7,
   "id": "6ead6792-0892-484d-a386-03b002d6aeba",
   "metadata": {},
   "outputs": [
    {
     "name": "stdout",
     "output_type": "stream",
     "text": [
      "Instance of PolygonSequences class. Max Edges:10 Radius:3 Len: 8\n"
     ]
    }
   ],
   "source": [
    "print(polygon_gen)"
   ]
  },
  {
   "cell_type": "code",
   "execution_count": 8,
   "id": "7852da88-8550-43bc-96e5-c8694de021b0",
   "metadata": {},
   "outputs": [
    {
     "name": "stdout",
     "output_type": "stream",
     "text": [
      "True\n",
      "True\n",
      "False\n",
      "True\n"
     ]
    }
   ],
   "source": [
    "### Iterables and Iterators must have __iter__ method\n",
    "### Iterables shouldn't have a next method but Iterators must have a next method.\n",
    "print('__iter__' in dir(PolygonSequences))\n",
    "print('__iter__' in dir(PolygonSequences.PolygonSqIterator))\n",
    "print('__next__' in dir(PolygonSequences))\n",
    "print('__next__' in dir(PolygonSequences.PolygonSqIterator))"
   ]
  },
  {
   "cell_type": "code",
   "execution_count": 9,
   "id": "e971e299-750f-4a9a-9dda-29b44e86c5c6",
   "metadata": {},
   "outputs": [
    {
     "name": "stdout",
     "output_type": "stream",
     "text": [
      "List Comprehension:\n",
      " [Instance of ConvexPolygon class. Edges:3 Radius:3, Instance of ConvexPolygon class. Edges:4 Radius:3, Instance of ConvexPolygon class. Edges:5 Radius:3, Instance of ConvexPolygon class. Edges:6 Radius:3, Instance of ConvexPolygon class. Edges:7 Radius:3, Instance of ConvexPolygon class. Edges:8 Radius:3, Instance of ConvexPolygon class. Edges:9 Radius:3, Instance of ConvexPolygon class. Edges:10 Radius:3]\n",
      "enumerate on iterable:\n",
      " [(0, Instance of ConvexPolygon class. Edges:3 Radius:3), (1, Instance of ConvexPolygon class. Edges:4 Radius:3), (2, Instance of ConvexPolygon class. Edges:5 Radius:3), (3, Instance of ConvexPolygon class. Edges:6 Radius:3), (4, Instance of ConvexPolygon class. Edges:7 Radius:3), (5, Instance of ConvexPolygon class. Edges:8 Radius:3), (6, Instance of ConvexPolygon class. Edges:9 Radius:3), (7, Instance of ConvexPolygon class. Edges:10 Radius:3)]\n"
     ]
    }
   ],
   "source": [
    "### Check enumerate, list comprehension on iterable\n",
    "print(\"List Comprehension:\\n\", [poly for poly in polygon_gen])\n",
    "\n",
    "   \n",
    "print(\"enumerate on iterable:\\n\", list(enumerate(polygon_gen)))\n",
    "\n"
   ]
  },
  {
   "cell_type": "code",
   "execution_count": 10,
   "id": "c6bcf622-52b9-4d60-869d-c057d7807a49",
   "metadata": {},
   "outputs": [
    {
     "name": "stdout",
     "output_type": "stream",
     "text": [
      "For loop on iterable\n",
      "Valid element: ConvexPolygon Object: Edges:3 Radius:3\n",
      "Valid element: ConvexPolygon Object: Edges:4 Radius:3\n",
      "Valid element: ConvexPolygon Object: Edges:5 Radius:3\n",
      "Valid element: ConvexPolygon Object: Edges:6 Radius:3\n",
      "Valid element: ConvexPolygon Object: Edges:7 Radius:3\n",
      "Valid element: ConvexPolygon Object: Edges:8 Radius:3\n",
      "Valid element: ConvexPolygon Object: Edges:9 Radius:3\n",
      "Valid element: ConvexPolygon Object: Edges:10 Radius:3\n"
     ]
    }
   ],
   "source": [
    "### For loops and enume\n",
    "print(\"For loop on iterable\")\n",
    "try:\n",
    "    for poly in polygon_gen:\n",
    "        print(\"Valid element:\", poly)\n",
    "except StopIteration:\n",
    "    print(\"Seems like list exhausted\")"
   ]
  },
  {
   "cell_type": "code",
   "execution_count": 11,
   "id": "ef31a2db-4de9-42f6-b0c6-fcc5f039484d",
   "metadata": {},
   "outputs": [
    {
     "name": "stdout",
     "output_type": "stream",
     "text": [
      "ConvexPolygon Object: Edges:3 Radius:3\n",
      "ConvexPolygon Object: Edges:4 Radius:3\n",
      "ConvexPolygon Object: Edges:5 Radius:3\n",
      "ConvexPolygon Object: Edges:6 Radius:3\n",
      "ConvexPolygon Object: Edges:7 Radius:3\n",
      "ConvexPolygon Object: Edges:8 Radius:3\n",
      "ConvexPolygon Object: Edges:9 Radius:3\n",
      "ConvexPolygon Object: Edges:10 Radius:3\n",
      "List finally exhausted\n"
     ]
    }
   ],
   "source": [
    "poly_Iter = iter(polygon_gen)\n",
    "while True:\n",
    "    try:\n",
    "        print(next(poly_Iter))\n",
    "    except StopIteration:\n",
    "        print(\"List finally exhausted\")\n",
    "        break"
   ]
  },
  {
   "cell_type": "markdown",
   "id": "2422e27c-922a-419e-b3ab-dc65a5417f27",
   "metadata": {},
   "source": [
    "### Sequence behavior regression"
   ]
  },
  {
   "cell_type": "code",
   "execution_count": 13,
   "id": "8efd8624-e752-40df-81fc-00a535559d7d",
   "metadata": {},
   "outputs": [
    {
     "name": "stdout",
     "output_type": "stream",
     "text": [
      "ConvexPolygon Object: Edges:3 Radius:3\n",
      "Count of Edges: 3 Vertices: 3\n",
      "Interior Angle: 60.0 Apothem: 1.5000000000000004\n",
      "Circumradius: 3 Length of Side: 5.196152422706632\n",
      "Perimenter: 15.588457268119896 Area: 11.691342951089926\n"
     ]
    }
   ],
   "source": [
    "### Checking indexing and slicing\n",
    "def print_details_poly(poly_obj):\n",
    "    print(str(poly_obj))\n",
    "    print(f\"Count of Edges: {poly_obj.get_edges} Vertices: {poly_obj.get_vertices}\")\n",
    "    print(f\"Interior Angle: {poly_obj.get_interior_angle} Apothem: {poly_obj.get_apothem}\")\n",
    "    print(f\"Circumradius: {poly_obj.get_circumradius} Length of Side: {poly_obj.get_length_of_side}\")\n",
    "    print(f\"Perimenter: {poly_obj.get_perimeter} Area: {poly_obj.get_area}\")\n",
    "\n",
    "poly_one = polygon_gen[0]\n",
    "print_details_poly(poly_one)\n",
    "# print(poly_one)"
   ]
  },
  {
   "cell_type": "code",
   "execution_count": 14,
   "id": "d3bb0d49-d40d-4c14-86eb-6c5cf61d4374",
   "metadata": {},
   "outputs": [
    {
     "name": "stdout",
     "output_type": "stream",
     "text": [
      "ConvexPolygon Object: Edges:3 Radius:3\n",
      "Count of Edges: 3 Vertices: 3\n",
      "Interior Angle: 60.0 Apothem: 1.5000000000000004\n",
      "Circumradius: 3 Length of Side: 5.196152422706632\n",
      "Perimenter: 15.588457268119896 Area: 11.691342951089926\n"
     ]
    }
   ],
   "source": [
    "poly_last = polygon_gen[-1]\n",
    "print_details_poly(poly_one)"
   ]
  },
  {
   "cell_type": "code",
   "execution_count": 15,
   "id": "4645bad3-75b4-444a-a8c3-fb2b9929228b",
   "metadata": {},
   "outputs": [
    {
     "data": {
      "text/plain": [
       "[Instance of ConvexPolygon class. Edges:4 Radius:3,\n",
       " Instance of ConvexPolygon class. Edges:5 Radius:3,\n",
       " Instance of ConvexPolygon class. Edges:6 Radius:3,\n",
       " Instance of ConvexPolygon class. Edges:7 Radius:3,\n",
       " Instance of ConvexPolygon class. Edges:8 Radius:3,\n",
       " Instance of ConvexPolygon class. Edges:9 Radius:3]"
      ]
     },
     "execution_count": 15,
     "metadata": {},
     "output_type": "execute_result"
    }
   ],
   "source": [
    "## Returns an array starting from 1st element till last but one\n",
    "polygon_gen[1:-1:]"
   ]
  },
  {
   "cell_type": "code",
   "execution_count": 16,
   "id": "fcae767c-3723-4c02-9e0b-a987d68461f9",
   "metadata": {},
   "outputs": [
    {
     "data": {
      "text/plain": [
       "[Instance of ConvexPolygon class. Edges:3 Radius:3,\n",
       " Instance of ConvexPolygon class. Edges:4 Radius:3,\n",
       " Instance of ConvexPolygon class. Edges:5 Radius:3,\n",
       " Instance of ConvexPolygon class. Edges:6 Radius:3,\n",
       " Instance of ConvexPolygon class. Edges:7 Radius:3,\n",
       " Instance of ConvexPolygon class. Edges:8 Radius:3,\n",
       " Instance of ConvexPolygon class. Edges:9 Radius:3]"
      ]
     },
     "execution_count": 16,
     "metadata": {},
     "output_type": "execute_result"
    }
   ],
   "source": [
    "## Negative indexing and slicing\n",
    "polygon_gen[-11:-1:]"
   ]
  },
  {
   "cell_type": "code",
   "execution_count": 17,
   "id": "d5330357-197e-4287-bec8-fea497ba866f",
   "metadata": {},
   "outputs": [
    {
     "data": {
      "text/plain": [
       "[Instance of ConvexPolygon class. Edges:10 Radius:3,\n",
       " Instance of ConvexPolygon class. Edges:9 Radius:3,\n",
       " Instance of ConvexPolygon class. Edges:8 Radius:3,\n",
       " Instance of ConvexPolygon class. Edges:7 Radius:3,\n",
       " Instance of ConvexPolygon class. Edges:6 Radius:3,\n",
       " Instance of ConvexPolygon class. Edges:5 Radius:3,\n",
       " Instance of ConvexPolygon class. Edges:4 Radius:3,\n",
       " Instance of ConvexPolygon class. Edges:3 Radius:3]"
      ]
     },
     "execution_count": 17,
     "metadata": {},
     "output_type": "execute_result"
    }
   ],
   "source": [
    "### Reversed sequence\n",
    "polygon_gen[::-1]"
   ]
  }
 ],
 "metadata": {
  "kernelspec": {
   "display_name": "Python 3",
   "language": "python",
   "name": "python3"
  },
  "language_info": {
   "codemirror_mode": {
    "name": "ipython",
    "version": 3
   },
   "file_extension": ".py",
   "mimetype": "text/x-python",
   "name": "python",
   "nbconvert_exporter": "python",
   "pygments_lexer": "ipython3",
   "version": "3.8.5"
  }
 },
 "nbformat": 4,
 "nbformat_minor": 5
}
